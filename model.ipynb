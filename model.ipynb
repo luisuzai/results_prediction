{
 "cells": [
  {
   "cell_type": "markdown",
   "metadata": {},
   "source": [
    "# Previsão de Vitória no Esporte"
   ]
  },
  {
   "cell_type": "markdown",
   "metadata": {},
   "source": [
    "## Imports das bibliotecas necessárias"
   ]
  },
  {
   "cell_type": "code",
   "execution_count": 1,
   "metadata": {},
   "outputs": [],
   "source": [
    "import pandas as pd\n",
    "%matplotlib inline"
   ]
  },
  {
   "cell_type": "markdown",
   "metadata": {},
   "source": [
    "## Leitura dos dados e visualização dos dados  \n",
    "As colunas ```home_score``` e ```away_score``` foram retiradas porque se não o modelo ia \"saber\" o resultado final e com isso teria 100% de acurácia sempre."
   ]
  },
  {
   "cell_type": "code",
   "execution_count": 2,
   "metadata": {},
   "outputs": [
    {
     "data": {
      "text/html": [
       "<div>\n",
       "<style scoped>\n",
       "    .dataframe tbody tr th:only-of-type {\n",
       "        vertical-align: middle;\n",
       "    }\n",
       "\n",
       "    .dataframe tbody tr th {\n",
       "        vertical-align: top;\n",
       "    }\n",
       "\n",
       "    .dataframe thead th {\n",
       "        text-align: right;\n",
       "    }\n",
       "</style>\n",
       "<table border=\"1\" class=\"dataframe\">\n",
       "  <thead>\n",
       "    <tr style=\"text-align: right;\">\n",
       "      <th></th>\n",
       "      <th>home_name</th>\n",
       "      <th>away_name</th>\n",
       "      <th>home_score</th>\n",
       "      <th>away_score</th>\n",
       "      <th>final_result</th>\n",
       "      <th>time</th>\n",
       "      <th>home_pos</th>\n",
       "      <th>away_pos</th>\n",
       "      <th>round</th>\n",
       "      <th>home_last5all_home</th>\n",
       "      <th>...</th>\n",
       "      <th>fifa_home_mid</th>\n",
       "      <th>fifa_home_def</th>\n",
       "      <th>fifa_away_ova</th>\n",
       "      <th>fifa_away_att</th>\n",
       "      <th>fifa_away_mid</th>\n",
       "      <th>fifa_away_def</th>\n",
       "      <th>elo_home_score</th>\n",
       "      <th>elo_away_score</th>\n",
       "      <th>tfm_value_home</th>\n",
       "      <th>tfm_value_away</th>\n",
       "    </tr>\n",
       "  </thead>\n",
       "  <tbody>\n",
       "    <tr>\n",
       "      <th>0</th>\n",
       "      <td>FC Porto</td>\n",
       "      <td>Nacional</td>\n",
       "      <td>3</td>\n",
       "      <td>1</td>\n",
       "      <td>H</td>\n",
       "      <td>1546895700</td>\n",
       "      <td>1</td>\n",
       "      <td>11</td>\n",
       "      <td>16</td>\n",
       "      <td>9</td>\n",
       "      <td>...</td>\n",
       "      <td>81</td>\n",
       "      <td>80</td>\n",
       "      <td>70</td>\n",
       "      <td>70</td>\n",
       "      <td>70</td>\n",
       "      <td>69</td>\n",
       "      <td>1813.906738</td>\n",
       "      <td>1392.986084</td>\n",
       "      <td>2.779800e+08</td>\n",
       "      <td>9450000.0</td>\n",
       "    </tr>\n",
       "    <tr>\n",
       "      <th>1</th>\n",
       "      <td>Tenerife</td>\n",
       "      <td>Elche</td>\n",
       "      <td>2</td>\n",
       "      <td>1</td>\n",
       "      <td>H</td>\n",
       "      <td>1546632000</td>\n",
       "      <td>18</td>\n",
       "      <td>15</td>\n",
       "      <td>20</td>\n",
       "      <td>2</td>\n",
       "      <td>...</td>\n",
       "      <td>71</td>\n",
       "      <td>69</td>\n",
       "      <td>67</td>\n",
       "      <td>69</td>\n",
       "      <td>67</td>\n",
       "      <td>67</td>\n",
       "      <td>1513.179932</td>\n",
       "      <td>1475.512939</td>\n",
       "      <td>1.090000e+07</td>\n",
       "      <td>9600000.0</td>\n",
       "    </tr>\n",
       "    <tr>\n",
       "      <th>10</th>\n",
       "      <td>Man City</td>\n",
       "      <td>Everton</td>\n",
       "      <td>3</td>\n",
       "      <td>1</td>\n",
       "      <td>H</td>\n",
       "      <td>1544877000</td>\n",
       "      <td>2</td>\n",
       "      <td>7</td>\n",
       "      <td>17</td>\n",
       "      <td>16</td>\n",
       "      <td>...</td>\n",
       "      <td>88</td>\n",
       "      <td>83</td>\n",
       "      <td>79</td>\n",
       "      <td>79</td>\n",
       "      <td>80</td>\n",
       "      <td>79</td>\n",
       "      <td>1986.672974</td>\n",
       "      <td>1699.472778</td>\n",
       "      <td>1.090000e+09</td>\n",
       "      <td>426000000.0</td>\n",
       "    </tr>\n",
       "    <tr>\n",
       "      <th>100</th>\n",
       "      <td>Braga</td>\n",
       "      <td>FC Porto</td>\n",
       "      <td>0</td>\n",
       "      <td>1</td>\n",
       "      <td>A</td>\n",
       "      <td>1503861300</td>\n",
       "      <td>6</td>\n",
       "      <td>3</td>\n",
       "      <td>4</td>\n",
       "      <td>3</td>\n",
       "      <td>...</td>\n",
       "      <td>75</td>\n",
       "      <td>74</td>\n",
       "      <td>79</td>\n",
       "      <td>78</td>\n",
       "      <td>79</td>\n",
       "      <td>79</td>\n",
       "      <td>1562.021240</td>\n",
       "      <td>1745.115723</td>\n",
       "      <td>5.740000e+07</td>\n",
       "      <td>177650000.0</td>\n",
       "    </tr>\n",
       "    <tr>\n",
       "      <th>1000</th>\n",
       "      <td>Red Star FC 93</td>\n",
       "      <td>Strasbourg</td>\n",
       "      <td>1</td>\n",
       "      <td>1</td>\n",
       "      <td>D</td>\n",
       "      <td>1487358000</td>\n",
       "      <td>16</td>\n",
       "      <td>6</td>\n",
       "      <td>26</td>\n",
       "      <td>0</td>\n",
       "      <td>...</td>\n",
       "      <td>66</td>\n",
       "      <td>67</td>\n",
       "      <td>66</td>\n",
       "      <td>68</td>\n",
       "      <td>67</td>\n",
       "      <td>66</td>\n",
       "      <td>1407.163086</td>\n",
       "      <td>1422.037231</td>\n",
       "      <td>1.210000e+07</td>\n",
       "      <td>9850000.0</td>\n",
       "    </tr>\n",
       "  </tbody>\n",
       "</table>\n",
       "<p>5 rows × 30 columns</p>\n",
       "</div>"
      ],
      "text/plain": [
       "           home_name   away_name  home_score  away_score final_result  \\\n",
       "0           FC Porto    Nacional           3           1            H   \n",
       "1           Tenerife       Elche           2           1            H   \n",
       "10          Man City     Everton           3           1            H   \n",
       "100            Braga    FC Porto           0           1            A   \n",
       "1000  Red Star FC 93  Strasbourg           1           1            D   \n",
       "\n",
       "            time  home_pos  away_pos  round  home_last5all_home  \\\n",
       "0     1546895700         1        11     16                   9   \n",
       "1     1546632000        18        15     20                   2   \n",
       "10    1544877000         2         7     17                  16   \n",
       "100   1503861300         6         3      4                   3   \n",
       "1000  1487358000        16         6     26                   0   \n",
       "\n",
       "           ...        fifa_home_mid  fifa_home_def  fifa_away_ova  \\\n",
       "0          ...                   81             80             70   \n",
       "1          ...                   71             69             67   \n",
       "10         ...                   88             83             79   \n",
       "100        ...                   75             74             79   \n",
       "1000       ...                   66             67             66   \n",
       "\n",
       "      fifa_away_att  fifa_away_mid  fifa_away_def  elo_home_score  \\\n",
       "0                70             70             69     1813.906738   \n",
       "1                69             67             67     1513.179932   \n",
       "10               79             80             79     1986.672974   \n",
       "100              78             79             79     1562.021240   \n",
       "1000             68             67             66     1407.163086   \n",
       "\n",
       "      elo_away_score  tfm_value_home  tfm_value_away  \n",
       "0        1392.986084    2.779800e+08       9450000.0  \n",
       "1        1475.512939    1.090000e+07       9600000.0  \n",
       "10       1699.472778    1.090000e+09     426000000.0  \n",
       "100      1745.115723    5.740000e+07     177650000.0  \n",
       "1000     1422.037231    1.210000e+07       9850000.0  \n",
       "\n",
       "[5 rows x 30 columns]"
      ]
     },
     "execution_count": 2,
     "metadata": {},
     "output_type": "execute_result"
    }
   ],
   "source": [
    "data = pd.read_json('base-dados-clube-da-aposta.json')\n",
    "data.drop(['home_score', 'away_score'], axis=1)\n",
    "data.head()"
   ]
  },
  {
   "cell_type": "markdown",
   "metadata": {},
   "source": [
    "### Visualização da quantidade de classes no dataset"
   ]
  },
  {
   "cell_type": "markdown",
   "metadata": {},
   "source": [
    "Visualização das informações em texto"
   ]
  },
  {
   "cell_type": "code",
   "execution_count": 3,
   "metadata": {},
   "outputs": [
    {
     "name": "stdout",
     "output_type": "stream",
     "text": [
      "Número total de dados: 5163\n",
      "Total de Vitória do Mandante: 2306\n",
      "Total de Empate: 1500\n",
      "Total de Vitória do Visitante: 1357\n"
     ]
    }
   ],
   "source": [
    "n_records = data.shape[0]\n",
    "\n",
    "home, draw, away = data['final_result'].value_counts()\n",
    "\n",
    "# Exibindo os resultados\n",
    "print (\"Número total de dados: {}\".format(n_records))\n",
    "print (\"Total de Vitória do Mandante: {}\".format(home))\n",
    "print (\"Total de Empate: {}\".format(draw))\n",
    "print (\"Total de Vitória do Visitante: {}\".format(away))"
   ]
  },
  {
   "cell_type": "markdown",
   "metadata": {},
   "source": [
    "É interessante visualizar os dados através de um gráfico, o que é feito abaixo:"
   ]
  },
  {
   "cell_type": "code",
   "execution_count": 4,
   "metadata": {},
   "outputs": [
    {
     "data": {
      "text/plain": [
       "<matplotlib.axes._subplots.AxesSubplot at 0x7f365afeb3c8>"
      ]
     },
     "execution_count": 4,
     "metadata": {},
     "output_type": "execute_result"
    },
    {
     "data": {
      "image/png": "[encoded data removed]",
      "text/plain": [
       "<Figure size 432x288 with 1 Axes>"
      ]
     },
     "metadata": {
      "needs_background": "light"
     },
     "output_type": "display_data"
    }
   ],
   "source": [
    "data['final_result'].value_counts().plot(kind='bar', title='Quantidade dos dados')"
   ]
  },
  {
   "cell_type": "markdown",
   "metadata": {},
   "source": [
    "Informações das variáveis e dos respectivos tipos:"
   ]
  },
  {
   "cell_type": "code",
   "execution_count": 5,
   "metadata": {
    "scrolled": true
   },
   "outputs": [
    {
     "name": "stdout",
     "output_type": "stream",
     "text": [
      "<class 'pandas.core.frame.DataFrame'>\n",
      "Int64Index: 5163 entries, 0 to 999\n",
      "Data columns (total 30 columns):\n",
      "home_name                  5163 non-null object\n",
      "away_name                  5163 non-null object\n",
      "home_score                 5163 non-null int64\n",
      "away_score                 5163 non-null int64\n",
      "final_result               5163 non-null object\n",
      "time                       5163 non-null int64\n",
      "home_pos                   5163 non-null int64\n",
      "away_pos                   5163 non-null int64\n",
      "round                      5163 non-null int64\n",
      "home_last5all_home         5163 non-null int64\n",
      "home_last5all_home_win     5163 non-null int64\n",
      "home_last5all_home_draw    5163 non-null int64\n",
      "home_last5all_home_lose    5163 non-null int64\n",
      "away_last5all_away         5163 non-null int64\n",
      "away_last5all_away_win     5163 non-null int64\n",
      "away_last5all_away_draw    5163 non-null int64\n",
      "away_last5all_away_lose    5163 non-null int64\n",
      "last5all_home_away_dif     5163 non-null int64\n",
      "fifa_home_ova              5163 non-null int64\n",
      "fifa_home_att              5163 non-null int64\n",
      "fifa_home_mid              5163 non-null int64\n",
      "fifa_home_def              5163 non-null int64\n",
      "fifa_away_ova              5163 non-null int64\n",
      "fifa_away_att              5163 non-null int64\n",
      "fifa_away_mid              5163 non-null int64\n",
      "fifa_away_def              5163 non-null int64\n",
      "elo_home_score             5163 non-null float64\n",
      "elo_away_score             5163 non-null float64\n",
      "tfm_value_home             5163 non-null float64\n",
      "tfm_value_away             5163 non-null float64\n",
      "dtypes: float64(4), int64(23), object(3)\n",
      "memory usage: 1.2+ MB\n"
     ]
    }
   ],
   "source": [
    "data.info()"
   ]
  },
  {
   "cell_type": "markdown",
   "metadata": {},
   "source": [
    "## Préprocessamento dos dados"
   ]
  },
  {
   "cell_type": "markdown",
   "metadata": {},
   "source": [
    "Nessa célula todos os valores que são cadeias de caracteres são transformados em inteiros por meio da função ```LabelEnconder```."
   ]
  },
  {
   "cell_type": "code",
   "execution_count": 6,
   "metadata": {
    "scrolled": true
   },
   "outputs": [
    {
     "name": "stdout",
     "output_type": "stream",
     "text": [
      "Classes: ['A', 'D', 'H']\n"
     ]
    }
   ],
   "source": [
    "from sklearn import preprocessing\n",
    "\n",
    "income_raw = data['final_result']\n",
    "features = data.drop('final_result', axis = 1)\n",
    "\n",
    "le_away = preprocessing.LabelEncoder()\n",
    "features['away_name'] = le_away.fit_transform(features['away_name'])\n",
    "\n",
    "le_home = preprocessing.LabelEncoder()\n",
    "features['home_name'] = le_home.fit_transform(features['home_name'])\n",
    "\n",
    "le = preprocessing.LabelEncoder()\n",
    "income = le.fit_transform(income_raw)\n",
    "\n",
    "print(\"Classes: {}\".format(list(le.classes_)))"
   ]
  },
  {
   "cell_type": "markdown",
   "metadata": {},
   "source": [
    "*Features* com os dados pré processados:"
   ]
  },
  {
   "cell_type": "code",
   "execution_count": 14,
   "metadata": {},
   "outputs": [
    {
     "data": {
      "text/html": [
       "<div>\n",
       "<style scoped>\n",
       "    .dataframe tbody tr th:only-of-type {\n",
       "        vertical-align: middle;\n",
       "    }\n",
       "\n",
       "    .dataframe tbody tr th {\n",
       "        vertical-align: top;\n",
       "    }\n",
       "\n",
       "    .dataframe thead th {\n",
       "        text-align: right;\n",
       "    }\n",
       "</style>\n",
       "<table border=\"1\" class=\"dataframe\">\n",
       "  <thead>\n",
       "    <tr style=\"text-align: right;\">\n",
       "      <th></th>\n",
       "      <th>home_name</th>\n",
       "      <th>away_name</th>\n",
       "      <th>home_score</th>\n",
       "      <th>away_score</th>\n",
       "      <th>time</th>\n",
       "      <th>home_pos</th>\n",
       "      <th>away_pos</th>\n",
       "      <th>round</th>\n",
       "      <th>home_last5all_home</th>\n",
       "      <th>home_last5all_home_win</th>\n",
       "      <th>...</th>\n",
       "      <th>fifa_home_mid</th>\n",
       "      <th>fifa_home_def</th>\n",
       "      <th>fifa_away_ova</th>\n",
       "      <th>fifa_away_att</th>\n",
       "      <th>fifa_away_mid</th>\n",
       "      <th>fifa_away_def</th>\n",
       "      <th>elo_home_score</th>\n",
       "      <th>elo_away_score</th>\n",
       "      <th>tfm_value_home</th>\n",
       "      <th>tfm_value_away</th>\n",
       "    </tr>\n",
       "  </thead>\n",
       "  <tbody>\n",
       "    <tr>\n",
       "      <th>0</th>\n",
       "      <td>87</td>\n",
       "      <td>157</td>\n",
       "      <td>3</td>\n",
       "      <td>1</td>\n",
       "      <td>1546895700</td>\n",
       "      <td>1</td>\n",
       "      <td>11</td>\n",
       "      <td>16</td>\n",
       "      <td>9</td>\n",
       "      <td>5</td>\n",
       "      <td>...</td>\n",
       "      <td>81</td>\n",
       "      <td>80</td>\n",
       "      <td>70</td>\n",
       "      <td>70</td>\n",
       "      <td>70</td>\n",
       "      <td>69</td>\n",
       "      <td>1813.906738</td>\n",
       "      <td>1392.986084</td>\n",
       "      <td>2.779800e+08</td>\n",
       "      <td>9450000.0</td>\n",
       "    </tr>\n",
       "    <tr>\n",
       "      <th>1</th>\n",
       "      <td>219</td>\n",
       "      <td>78</td>\n",
       "      <td>2</td>\n",
       "      <td>1</td>\n",
       "      <td>1546632000</td>\n",
       "      <td>18</td>\n",
       "      <td>15</td>\n",
       "      <td>20</td>\n",
       "      <td>2</td>\n",
       "      <td>2</td>\n",
       "      <td>...</td>\n",
       "      <td>71</td>\n",
       "      <td>69</td>\n",
       "      <td>67</td>\n",
       "      <td>69</td>\n",
       "      <td>67</td>\n",
       "      <td>67</td>\n",
       "      <td>1513.179932</td>\n",
       "      <td>1475.512939</td>\n",
       "      <td>1.090000e+07</td>\n",
       "      <td>9600000.0</td>\n",
       "    </tr>\n",
       "    <tr>\n",
       "      <th>10</th>\n",
       "      <td>146</td>\n",
       "      <td>81</td>\n",
       "      <td>3</td>\n",
       "      <td>1</td>\n",
       "      <td>1544877000</td>\n",
       "      <td>2</td>\n",
       "      <td>7</td>\n",
       "      <td>17</td>\n",
       "      <td>16</td>\n",
       "      <td>5</td>\n",
       "      <td>...</td>\n",
       "      <td>88</td>\n",
       "      <td>83</td>\n",
       "      <td>79</td>\n",
       "      <td>79</td>\n",
       "      <td>80</td>\n",
       "      <td>79</td>\n",
       "      <td>1986.672974</td>\n",
       "      <td>1699.472778</td>\n",
       "      <td>1.090000e+09</td>\n",
       "      <td>426000000.0</td>\n",
       "    </tr>\n",
       "    <tr>\n",
       "      <th>100</th>\n",
       "      <td>41</td>\n",
       "      <td>87</td>\n",
       "      <td>0</td>\n",
       "      <td>1</td>\n",
       "      <td>1503861300</td>\n",
       "      <td>6</td>\n",
       "      <td>3</td>\n",
       "      <td>4</td>\n",
       "      <td>3</td>\n",
       "      <td>4</td>\n",
       "      <td>...</td>\n",
       "      <td>75</td>\n",
       "      <td>74</td>\n",
       "      <td>79</td>\n",
       "      <td>78</td>\n",
       "      <td>79</td>\n",
       "      <td>79</td>\n",
       "      <td>1562.021240</td>\n",
       "      <td>1745.115723</td>\n",
       "      <td>5.740000e+07</td>\n",
       "      <td>177650000.0</td>\n",
       "    </tr>\n",
       "    <tr>\n",
       "      <th>1000</th>\n",
       "      <td>188</td>\n",
       "      <td>215</td>\n",
       "      <td>1</td>\n",
       "      <td>1</td>\n",
       "      <td>1487358000</td>\n",
       "      <td>16</td>\n",
       "      <td>6</td>\n",
       "      <td>26</td>\n",
       "      <td>0</td>\n",
       "      <td>2</td>\n",
       "      <td>...</td>\n",
       "      <td>66</td>\n",
       "      <td>67</td>\n",
       "      <td>66</td>\n",
       "      <td>68</td>\n",
       "      <td>67</td>\n",
       "      <td>66</td>\n",
       "      <td>1407.163086</td>\n",
       "      <td>1422.037231</td>\n",
       "      <td>1.210000e+07</td>\n",
       "      <td>9850000.0</td>\n",
       "    </tr>\n",
       "  </tbody>\n",
       "</table>\n",
       "<p>5 rows × 29 columns</p>\n",
       "</div>"
      ],
      "text/plain": [
       "      home_name  away_name  home_score  away_score        time  home_pos  \\\n",
       "0            87        157           3           1  1546895700         1   \n",
       "1           219         78           2           1  1546632000        18   \n",
       "10          146         81           3           1  1544877000         2   \n",
       "100          41         87           0           1  1503861300         6   \n",
       "1000        188        215           1           1  1487358000        16   \n",
       "\n",
       "      away_pos  round  home_last5all_home  home_last5all_home_win  \\\n",
       "0           11     16                   9                       5   \n",
       "1           15     20                   2                       2   \n",
       "10           7     17                  16                       5   \n",
       "100          3      4                   3                       4   \n",
       "1000         6     26                   0                       2   \n",
       "\n",
       "           ...        fifa_home_mid  fifa_home_def  fifa_away_ova  \\\n",
       "0          ...                   81             80             70   \n",
       "1          ...                   71             69             67   \n",
       "10         ...                   88             83             79   \n",
       "100        ...                   75             74             79   \n",
       "1000       ...                   66             67             66   \n",
       "\n",
       "      fifa_away_att  fifa_away_mid  fifa_away_def  elo_home_score  \\\n",
       "0                70             70             69     1813.906738   \n",
       "1                69             67             67     1513.179932   \n",
       "10               79             80             79     1986.672974   \n",
       "100              78             79             79     1562.021240   \n",
       "1000             68             67             66     1407.163086   \n",
       "\n",
       "      elo_away_score  tfm_value_home  tfm_value_away  \n",
       "0        1392.986084    2.779800e+08       9450000.0  \n",
       "1        1475.512939    1.090000e+07       9600000.0  \n",
       "10       1699.472778    1.090000e+09     426000000.0  \n",
       "100      1745.115723    5.740000e+07     177650000.0  \n",
       "1000     1422.037231    1.210000e+07       9850000.0  \n",
       "\n",
       "[5 rows x 29 columns]"
      ]
     },
     "execution_count": 14,
     "metadata": {},
     "output_type": "execute_result"
    }
   ],
   "source": [
    "features.head()"
   ]
  },
  {
   "cell_type": "markdown",
   "metadata": {},
   "source": [
    "### Implementação do modelo"
   ]
  },
  {
   "cell_type": "markdown",
   "metadata": {},
   "source": [
    "Aqui o modelo é separado em conjunto de treinamento e conjunto de testes, com 70% e 30% respectivamente:"
   ]
  },
  {
   "cell_type": "code",
   "execution_count": 8,
   "metadata": {},
   "outputs": [
    {
     "name": "stdout",
     "output_type": "stream",
     "text": [
      "O conjunto de treinamento tem 3614 de amostra.\n",
      "O conjunto de teste tem 1549 de amostra.\n"
     ]
    }
   ],
   "source": [
    "# Importar train_test_split\n",
    "from sklearn.model_selection import train_test_split\n",
    "\n",
    "# Dividir os 'atributos' e 'income' entre conjuntos de treinamento e de testes.\n",
    "X_train, X_test, y_train, y_test = train_test_split(features, \n",
    "                                                    income, \n",
    "                                                    test_size = 0.3, \n",
    "                                                    random_state = 0)\n",
    "\n",
    "print (\"O conjunto de treinamento tem {} de amostra.\".format(X_train.shape[0]))\n",
    "print (\"O conjunto de teste tem {} de amostra.\".format(X_test.shape[0]))"
   ]
  },
  {
   "cell_type": "markdown",
   "metadata": {},
   "source": [
    "Função que nos dá a ```Confusion Matrix``` do modelo no conjunto de teste"
   ]
  },
  {
   "cell_type": "code",
   "execution_count": 9,
   "metadata": {},
   "outputs": [],
   "source": [
    "import matplotlib.pyplot as plt\n",
    "from sklearn.metrics import confusion_matrix\n",
    "\n",
    "def confusion_matrix_plot(y_test, predicted):\n",
    "    conf_mat = confusion_matrix(y_true=y_test, y_pred=predicted)\n",
    "    labels = ['Class 0', 'Class 1', 'Class 2']\n",
    "    print('\\nConfunsion Matrix:')\n",
    "    fig = plt.figure()\n",
    "    ax = fig.add_subplot(111)\n",
    "    cax = ax.matshow(conf_mat, cmap=plt.cm.Blues)\n",
    "    \n",
    "    fig.colorbar(cax)\n",
    "    ax.set_xticklabels([''] + labels)\n",
    "    ax.set_yticklabels([''] + labels)\n",
    "    \n",
    "    plt.xlabel('Predicted')\n",
    "    plt.ylabel('Expected')\n",
    "    \n",
    "    plt.show()"
   ]
  },
  {
   "cell_type": "markdown",
   "metadata": {},
   "source": [
    "Modelo selecionado: **Random Forest**, pois, é um modelo que evita *Overfitting* e é bem robusto para problemas de classificação com mais de duas classes.  \n",
    "  \n",
    "Foi utilizado ```GridSearch``` para fazer os ajustes de hyperparâmetros.\n",
    "  \n",
    "Os resultados foram satisfatórios, visto que o modelo conseguiu **acurácia** de  0.9742 no melhor  caso. Outras métricas também foram usadas, como: **precision, recall, f1-score e support**. "
   ]
  },
  {
   "cell_type": "code",
   "execution_count": 10,
   "metadata": {
    "scrolled": false
   },
   "outputs": [
    {
     "name": "stdout",
     "output_type": "stream",
     "text": [
      "Unoptimized model\n",
      "------\n",
      "Accuracy score on testing data: 0.9419\n",
      "              precision    recall  f1-score   support\n",
      "\n",
      "           0       0.97      0.90      0.93       457\n",
      "           1       0.88      0.93      0.90       416\n",
      "           2       0.97      0.98      0.97       676\n",
      "\n",
      "   micro avg       0.94      0.94      0.94      1549\n",
      "   macro avg       0.94      0.94      0.94      1549\n",
      "weighted avg       0.94      0.94      0.94      1549\n",
      "\n",
      "\n",
      "Confunsion Matrix:\n"
     ]
    },
    {
     "data": {
      "image/png": "[encoded data removed]",
      "text/plain": [
       "<Figure size 432x288 with 2 Axes>"
      ]
     },
     "metadata": {
      "needs_background": "light"
     },
     "output_type": "display_data"
    },
    {
     "name": "stdout",
     "output_type": "stream",
     "text": [
      "\n",
      "Optimized Model\n",
      "------\n",
      "Final accuracy score on the testing data: 0.9742\n",
      "              precision    recall  f1-score   support\n",
      "\n",
      "           0       0.98      0.96      0.97       435\n",
      "           1       0.93      0.98      0.96       420\n",
      "           2       1.00      0.98      0.99       694\n",
      "\n",
      "   micro avg       0.97      0.97      0.97      1549\n",
      "   macro avg       0.97      0.97      0.97      1549\n",
      "weighted avg       0.97      0.97      0.97      1549\n",
      "\n",
      "\n",
      "Confunsion Matrix:\n"
     ]
    },
    {
     "data": {
      "image/png": "[encoded data removed]",
      "text/plain": [
       "<Figure size 432x288 with 2 Axes>"
      ]
     },
     "metadata": {
      "needs_background": "light"
     },
     "output_type": "display_data"
    }
   ],
   "source": [
    "from sklearn.ensemble import RandomForestClassifier\n",
    "from sklearn.model_selection import GridSearchCV\n",
    "from sklearn.metrics import make_scorer\n",
    "from sklearn.metrics import classification_report\n",
    "from sklearn.metrics import accuracy_score\n",
    "\n",
    "# TODO: Inicializar o classificador\n",
    "clf = RandomForestClassifier(random_state=0, n_estimators=10)\n",
    "\n",
    "parameters = {\"n_estimators\": [1, 50, 100, 150], \"min_samples_split\":[2, 5, 7, 10, 13, 15]}\n",
    " \n",
    "grid_obj = GridSearchCV(clf, param_grid=parameters, cv=5)\n",
    "\n",
    "grid_fit = grid_obj.fit(X_train, y_train)\n",
    "\n",
    "best_clf = grid_fit.best_estimator_\n",
    "\n",
    "predictions = (clf.fit(X_train, y_train)).predict(X_test)\n",
    "best_predictions = best_clf.predict(X_test)\n",
    "\n",
    "# Reportar os scores de antes e de depois\n",
    "print (\"Unoptimized model\\n------\")\n",
    "print (\"Accuracy score on testing data: {:.4f}\".format(accuracy_score(y_test, predictions)))\n",
    "print(classification_report(predictions, y_test))\n",
    "confusion_matrix_plot(y_test, predictions)\n",
    "\n",
    "print (\"\\nOptimized Model\\n------\")\n",
    "print (\"Final accuracy score on the testing data: {:.4f}\".format(accuracy_score(y_test, best_predictions)))\n",
    "print(classification_report(best_predictions, y_test))\n",
    "confusion_matrix_plot(y_test, best_predictions)"
   ]
  }
 ],
 "metadata": {
  "kernelspec": {
   "display_name": "Python 3",
   "language": "python",
   "name": "python3"
  },
  "language_info": {
   "codemirror_mode": {
    "name": "ipython",
    "version": 3
   },
   "file_extension": ".py",
   "mimetype": "text/x-python",
   "name": "python",
   "nbconvert_exporter": "python",
   "pygments_lexer": "ipython3",
   "version": "3.6.8"
  }
 },
 "nbformat": 4,
 "nbformat_minor": 2
}
